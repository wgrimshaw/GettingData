{
 "cells": [
  {
   "cell_type": "markdown",
   "metadata": {},
   "source": [
    "##  04 Grabbing HTML tables with Pandas\n",
    "What if you saw a table you wanted on a web page? For example: https://en.wikipedia.org/wiki/World_Happiness_Report. Can Python help us download those data? \n",
    "\n",
    "Why yes. Yes it can.\n",
    "\n",
    "Specifically, we use the Pandas' `read_html` function, which is able to identify tables in an HTML page and pull them out into a dataframe object."
   ]
  },
  {
   "cell_type": "code",
   "execution_count": 1,
   "metadata": {},
   "outputs": [],
   "source": [
    "#Import pandas\n",
    "import pandas"
   ]
  },
  {
   "cell_type": "code",
   "execution_count": 2,
   "metadata": {},
   "outputs": [
    {
     "name": "stdout",
     "output_type": "stream",
     "text": [
      "13 tables were found\n"
     ]
    }
   ],
   "source": [
    "#Here, the read_html function pulls into a list object any table in the URL we provide.\n",
    "tableList = pandas.read_html('https://en.wikipedia.org/wiki/World_Happiness_Report',header=0)\n",
    "print (\"{} tables were found\".format(len(tableList)))"
   ]
  },
  {
   "cell_type": "code",
   "execution_count": 3,
   "metadata": {},
   "outputs": [
    {
     "data": {
      "text/html": [
       "<div>\n",
       "<style scoped>\n",
       "    .dataframe tbody tr th:only-of-type {\n",
       "        vertical-align: middle;\n",
       "    }\n",
       "\n",
       "    .dataframe tbody tr th {\n",
       "        vertical-align: top;\n",
       "    }\n",
       "\n",
       "    .dataframe thead th {\n",
       "        text-align: right;\n",
       "    }\n",
       "</style>\n",
       "<table border=\"1\" class=\"dataframe\">\n",
       "  <thead>\n",
       "    <tr style=\"text-align: right;\">\n",
       "      <th></th>\n",
       "      <th>Table</th>\n",
       "      <th>Unnamed: 1</th>\n",
       "      <th>Unnamed: 2</th>\n",
       "      <th>Unnamed: 3</th>\n",
       "      <th>Unnamed: 4</th>\n",
       "      <th>Unnamed: 5</th>\n",
       "      <th>Unnamed: 6</th>\n",
       "      <th>Unnamed: 7</th>\n",
       "      <th>Unnamed: 8</th>\n",
       "    </tr>\n",
       "  </thead>\n",
       "  <tbody>\n",
       "    <tr>\n",
       "      <td>0</td>\n",
       "      <td>Overall rank Country or region Score GDP per c...</td>\n",
       "      <td>NaN</td>\n",
       "      <td>NaN</td>\n",
       "      <td>NaN</td>\n",
       "      <td>NaN</td>\n",
       "      <td>NaN</td>\n",
       "      <td>NaN</td>\n",
       "      <td>NaN</td>\n",
       "      <td>NaN</td>\n",
       "    </tr>\n",
       "    <tr>\n",
       "      <td>1</td>\n",
       "      <td>Overall rank</td>\n",
       "      <td>Country or region</td>\n",
       "      <td>Score</td>\n",
       "      <td>GDP per capita</td>\n",
       "      <td>Social support</td>\n",
       "      <td>Healthy life expectancy</td>\n",
       "      <td>Freedom to make life choices</td>\n",
       "      <td>Generosity</td>\n",
       "      <td>Perceptions of corruption</td>\n",
       "    </tr>\n",
       "    <tr>\n",
       "      <td>2</td>\n",
       "      <td>1</td>\n",
       "      <td>Finland</td>\n",
       "      <td>7.632</td>\n",
       "      <td>1.305</td>\n",
       "      <td>1.592</td>\n",
       "      <td>0.874</td>\n",
       "      <td>0.681</td>\n",
       "      <td>0.202</td>\n",
       "      <td>0.393</td>\n",
       "    </tr>\n",
       "    <tr>\n",
       "      <td>3</td>\n",
       "      <td>2</td>\n",
       "      <td>Norway</td>\n",
       "      <td>7.594</td>\n",
       "      <td>1.456</td>\n",
       "      <td>1.582</td>\n",
       "      <td>0.861</td>\n",
       "      <td>0.686</td>\n",
       "      <td>0.286</td>\n",
       "      <td>0.340</td>\n",
       "    </tr>\n",
       "    <tr>\n",
       "      <td>4</td>\n",
       "      <td>3</td>\n",
       "      <td>Denmark</td>\n",
       "      <td>7.555</td>\n",
       "      <td>1.351</td>\n",
       "      <td>1.590</td>\n",
       "      <td>0.868</td>\n",
       "      <td>0.683</td>\n",
       "      <td>0.284</td>\n",
       "      <td>0.408</td>\n",
       "    </tr>\n",
       "  </tbody>\n",
       "</table>\n",
       "</div>"
      ],
      "text/plain": [
       "                                               Table         Unnamed: 1  \\\n",
       "0  Overall rank Country or region Score GDP per c...                NaN   \n",
       "1                                       Overall rank  Country or region   \n",
       "2                                                  1            Finland   \n",
       "3                                                  2             Norway   \n",
       "4                                                  3            Denmark   \n",
       "\n",
       "  Unnamed: 2      Unnamed: 3      Unnamed: 4               Unnamed: 5  \\\n",
       "0        NaN             NaN             NaN                      NaN   \n",
       "1      Score  GDP per capita  Social support  Healthy life expectancy   \n",
       "2      7.632           1.305           1.592                    0.874   \n",
       "3      7.594           1.456           1.582                    0.861   \n",
       "4      7.555           1.351           1.590                    0.868   \n",
       "\n",
       "                     Unnamed: 6  Unnamed: 7                 Unnamed: 8  \n",
       "0                           NaN         NaN                        NaN  \n",
       "1  Freedom to make life choices  Generosity  Perceptions of corruption  \n",
       "2                         0.681       0.202                      0.393  \n",
       "3                         0.686       0.286                      0.340  \n",
       "4                         0.683       0.284                      0.408  "
      ]
     },
     "execution_count": 3,
     "metadata": {},
     "output_type": "execute_result"
    }
   ],
   "source": [
    "#Let's grab the 6th table one and display it's firt five rows\n",
    "df = tableList[5]\n",
    "df.head()"
   ]
  },
  {
   "cell_type": "code",
   "execution_count": 4,
   "metadata": {},
   "outputs": [
    {
     "data": {
      "text/html": [
       "<div>\n",
       "<style scoped>\n",
       "    .dataframe tbody tr th:only-of-type {\n",
       "        vertical-align: middle;\n",
       "    }\n",
       "\n",
       "    .dataframe tbody tr th {\n",
       "        vertical-align: top;\n",
       "    }\n",
       "\n",
       "    .dataframe thead th {\n",
       "        text-align: right;\n",
       "    }\n",
       "</style>\n",
       "<table border=\"1\" class=\"dataframe\">\n",
       "  <thead>\n",
       "    <tr style=\"text-align: right;\">\n",
       "      <th>1</th>\n",
       "      <th>Overall rank</th>\n",
       "      <th>Country or region</th>\n",
       "      <th>Score</th>\n",
       "      <th>GDP per capita</th>\n",
       "      <th>Social support</th>\n",
       "      <th>Healthy life expectancy</th>\n",
       "      <th>Freedom to make life choices</th>\n",
       "      <th>Generosity</th>\n",
       "      <th>Perceptions of corruption</th>\n",
       "    </tr>\n",
       "  </thead>\n",
       "  <tbody>\n",
       "    <tr>\n",
       "      <td>2</td>\n",
       "      <td>1</td>\n",
       "      <td>Finland</td>\n",
       "      <td>7.632</td>\n",
       "      <td>1.305</td>\n",
       "      <td>1.592</td>\n",
       "      <td>0.874</td>\n",
       "      <td>0.681</td>\n",
       "      <td>0.202</td>\n",
       "      <td>0.393</td>\n",
       "    </tr>\n",
       "    <tr>\n",
       "      <td>3</td>\n",
       "      <td>2</td>\n",
       "      <td>Norway</td>\n",
       "      <td>7.594</td>\n",
       "      <td>1.456</td>\n",
       "      <td>1.582</td>\n",
       "      <td>0.861</td>\n",
       "      <td>0.686</td>\n",
       "      <td>0.286</td>\n",
       "      <td>0.340</td>\n",
       "    </tr>\n",
       "    <tr>\n",
       "      <td>4</td>\n",
       "      <td>3</td>\n",
       "      <td>Denmark</td>\n",
       "      <td>7.555</td>\n",
       "      <td>1.351</td>\n",
       "      <td>1.590</td>\n",
       "      <td>0.868</td>\n",
       "      <td>0.683</td>\n",
       "      <td>0.284</td>\n",
       "      <td>0.408</td>\n",
       "    </tr>\n",
       "    <tr>\n",
       "      <td>5</td>\n",
       "      <td>4</td>\n",
       "      <td>Iceland</td>\n",
       "      <td>7.495</td>\n",
       "      <td>1.343</td>\n",
       "      <td>1.644</td>\n",
       "      <td>0.914</td>\n",
       "      <td>0.677</td>\n",
       "      <td>0.353</td>\n",
       "      <td>0.138</td>\n",
       "    </tr>\n",
       "    <tr>\n",
       "      <td>6</td>\n",
       "      <td>5</td>\n",
       "      <td>Switzerland</td>\n",
       "      <td>7.487</td>\n",
       "      <td>1.420</td>\n",
       "      <td>1.549</td>\n",
       "      <td>0.927</td>\n",
       "      <td>0.660</td>\n",
       "      <td>0.256</td>\n",
       "      <td>0.357</td>\n",
       "    </tr>\n",
       "  </tbody>\n",
       "</table>\n",
       "</div>"
      ],
      "text/plain": [
       "1 Overall rank Country or region  Score GDP per capita Social support  \\\n",
       "2            1           Finland  7.632          1.305          1.592   \n",
       "3            2            Norway  7.594          1.456          1.582   \n",
       "4            3           Denmark  7.555          1.351          1.590   \n",
       "5            4           Iceland  7.495          1.343          1.644   \n",
       "6            5       Switzerland  7.487          1.420          1.549   \n",
       "\n",
       "1 Healthy life expectancy Freedom to make life choices Generosity  \\\n",
       "2                   0.874                        0.681      0.202   \n",
       "3                   0.861                        0.686      0.286   \n",
       "4                   0.868                        0.683      0.284   \n",
       "5                   0.914                        0.677      0.353   \n",
       "6                   0.927                        0.660      0.256   \n",
       "\n",
       "1 Perceptions of corruption  \n",
       "2                     0.393  \n",
       "3                     0.340  \n",
       "4                     0.408  \n",
       "5                     0.138  \n",
       "6                     0.357  "
      ]
     },
     "execution_count": 4,
     "metadata": {},
     "output_type": "execute_result"
    }
   ],
   "source": [
    "#Looks like the first row should be a header, we can fix this with a few more lines of code...\n",
    "df = pandas.read_html('https://en.wikipedia.org/wiki/World_Happiness_Report')[5]\n",
    "#Set the header to the 2nd row\n",
    "df.columns = df.iloc[1]\n",
    "#Drop the 1st and 2nd rows\n",
    "df.drop(df.index[[0,1]],inplace=True)\n",
    "#Set the datatypes\n",
    "#Show the dataframe\n",
    "df.head()"
   ]
  },
  {
   "cell_type": "code",
   "execution_count": 5,
   "metadata": {},
   "outputs": [],
   "source": [
    "#Now we can save it to a local file using df.to_csv()\n",
    "df.to_csv(\"Happiness.csv\", # The output filename\n",
    "          index=False,     # We opt not to write out the index\n",
    "          encoding='utf8') # This deals with issues surrounding countries with odd characters"
   ]
  },
  {
   "cell_type": "code",
   "execution_count": 6,
   "metadata": {},
   "outputs": [
    {
     "data": {
      "image/png": "[encoded data removed]",
      "text/plain": [
       "<Figure size 432x288 with 1 Axes>"
      ]
     },
     "metadata": {
      "needs_background": "light"
     },
     "output_type": "display_data"
    }
   ],
   "source": [
    "#...or we can examine it\n",
    "#Here is as quick preview of pandas' plotting capability\n",
    "%matplotlib inline\n",
    "df['Social support'] = pandas.to_numeric(df['Social support'])\n",
    "df['Healthy life expectancy'] = pandas.to_numeric(df['Healthy life expectancy'])\n",
    "df.plot.scatter(x='Social support',y='Healthy life expectancy');"
   ]
  },
  {
   "cell_type": "code",
   "execution_count": null,
   "metadata": {},
   "outputs": [],
   "source": []
  }
 ],
 "metadata": {
  "kernelspec": {
   "display_name": "Python 3",
   "language": "python",
   "name": "python3"
  },
  "language_info": {
   "codemirror_mode": {
    "name": "ipython",
    "version": 3
   },
   "file_extension": ".py",
   "mimetype": "text/x-python",
   "name": "python",
   "nbconvert_exporter": "python",
   "pygments_lexer": "ipython3",
   "version": "3.6.8"
  }
 },
 "nbformat": 4,
 "nbformat_minor": 2
}
